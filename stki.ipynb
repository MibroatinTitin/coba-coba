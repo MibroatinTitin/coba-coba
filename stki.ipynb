{
  "nbformat": 4,
  "nbformat_minor": 0,
  "metadata": {
    "colab": {
      "provenance": [],
      "authorship_tag": "ABX9TyMvaI+pd2IYJWIaDEzui2+r",
      "include_colab_link": true
    },
    "kernelspec": {
      "name": "python3",
      "display_name": "Python 3"
    },
    "language_info": {
      "name": "python"
    }
  },
  "cells": [
    {
      "cell_type": "markdown",
      "metadata": {
        "id": "view-in-github",
        "colab_type": "text"
      },
      "source": [
        "<a href=\"https://colab.research.google.com/github/MibroatinTitin/coba-coba/blob/master/stki.ipynb\" target=\"_parent\"><img src=\"https://colab.research.google.com/assets/colab-badge.svg\" alt=\"Open In Colab\"/></a>"
      ]
    },
    {
      "cell_type": "code",
      "execution_count": null,
      "metadata": {
        "colab": {
          "base_uri": "https://localhost:8080/"
        },
        "id": "OeXQiYKjlhGk",
        "outputId": "1c8c9d2c-8db3-4f62-e122-dce6233e4881"
      },
      "outputs": [
        {
          "output_type": "stream",
          "name": "stdout",
          "text": [
            "Tabel 3. Hasil Pengelompokan Data\n",
            "          C1         C2         C3  Cluster C1  Cluster C2  Cluster C3\n",
            "0   0.000000  13.286512  19.751937           1           0           0\n",
            "1  11.140031   8.610976  22.703491           0           1           0\n",
            "2  12.853505  23.267815  14.085794           1           0           0\n",
            "3   9.493756  15.937377  17.957661           1           0           0\n",
            "4  13.286512   0.000000  27.041405           0           1           0\n",
            "5  12.777488  22.588444  21.174650           1           0           0\n",
            "6   8.152116  18.481104  13.731919           1           0           0\n",
            "7  15.067083  17.129962  14.914758           0           0           1\n",
            "8  14.342838  25.313854  23.197534           1           0           0\n",
            "9  19.751937  27.041405   0.000000           0           0           1\n"
          ]
        }
      ],
      "source": [
        "import numpy as np\n",
        "import pandas as pd\n",
        "\n",
        "# Data peserta didik\n",
        "data = np.array([\n",
        "    [4, 83.00, 80.08, 87.67, 2, 75],\n",
        "    [2, 80.67, 83.33, 88.00, 0, 65],\n",
        "    [2, 83.67, 85.67, 82.33, 1, 85],\n",
        "    [1, 76.67, 86.33, 86.67, 1, 75],\n",
        "    [1, 86.67, 84.33, 93.67, 2, 65],\n",
        "    [0, 87.67, 80.00, 87.00, 0, 86],\n",
        "    [1, 83.33, 80.67, 80.67, 0, 77],\n",
        "    [2, 85.67, 83.67, 76.67, 1, 66],\n",
        "    [1, 86.33, 76.67, 86.67, 0, 88],\n",
        "    [3, 83.67, 90.07, 70.97, 1, 78]\n",
        "])\n",
        "\n",
        "# Centroid awal\n",
        "centroids = np.array([\n",
        "    [4, 83.00, 80.08, 87.67, 2, 75],  # C1\n",
        "    [1, 86.67, 84.33, 93.67, 2, 65],  # C2\n",
        "    [3, 83.67, 90.07, 70.97, 1, 78]   # C3\n",
        "])\n",
        "\n",
        "# Fungsi menghitung jarak Euclidean\n",
        "def euclidean_distance(point, center):\n",
        "    return np.sqrt(np.sum((point - center) ** 2))\n",
        "\n",
        "# Menghitung jarak dan menentukan cluster\n",
        "distances = []\n",
        "clusters = []\n",
        "\n",
        "for row in data:\n",
        "    d = [euclidean_distance(row, centroid) for centroid in centroids]\n",
        "    distances.append(d)\n",
        "    cluster = [0, 0, 0]\n",
        "    cluster[np.argmin(d)] = 1\n",
        "    clusters.append(cluster)\n",
        "\n",
        "# Membuat DataFrame hasil\n",
        "columns = ['C1', 'C2', 'C3', 'Cluster C1', 'Cluster C2', 'Cluster C3']\n",
        "results = []\n",
        "\n",
        "for d, c in zip(distances, clusters):\n",
        "    results.append(d + c)\n",
        "\n",
        "results_df = pd.DataFrame(results, columns=columns)\n",
        "\n",
        "# Menampilkan hasil pengelompokan\n",
        "def show_results():\n",
        "    print(\"Tabel 3. Hasil Pengelompokan Data\")\n",
        "    print(results_df)\n",
        "\n",
        "# Memanggil fungsi untuk menampilkan hasil\n",
        "show_results()\n"
      ]
    },
    {
      "cell_type": "code",
      "source": [
        "import numpy as np\n",
        "\n",
        "# Data yang telah dikelompokkan berdasarkan cluster (setelah iterasi pertama)\n",
        "data = np.array([\n",
        "    [4, 83.00, 80.08, 87.67, 2, 75],  # Data untuk AAA\n",
        "    [2, 80.67, 83.33, 88.00, 0, 65],  # Data untuk BBB\n",
        "    [2, 83.67, 85.67, 82.33, 1, 85],  # Data untuk CCC\n",
        "    [1, 76.67, 86.33, 86.67, 1, 75],  # Data untuk DDD\n",
        "    [1, 86.67, 84.33, 93.67, 2, 65],  # Data untuk EEE\n",
        "    [0, 87.67, 80.00, 87.00, 0, 86],  # Data untuk FFF\n",
        "    [1, 83.33, 80.67, 80.67, 0, 77],  # Data untuk GGG\n",
        "    [2, 85.67, 83.67, 76.67, 1, 66],  # Data untuk HHH\n",
        "    [1, 86.33, 76.67, 86.67, 0, 88],  # Data untuk III\n",
        "    [3, 83.67, 90.07, 70.97, 1, 78]   # Data untuk JJJ\n",
        "])\n",
        "\n",
        "# Hasil pengelompokan (setelah iterasi pertama)\n",
        "cluster_assignments = [\n",
        "    [1, 0, 0],  # Data AAA\n",
        "    [0, 1, 0],  # Data BBB\n",
        "    [1, 0, 0],  # Data CCC\n",
        "    [1, 0, 0],  # Data DDD\n",
        "    [0, 1, 0],  # Data EEE\n",
        "    [1, 0, 0],  # Data FFF\n",
        "    [1, 0, 0],  # Data GGG\n",
        "    [0, 0, 1],  # Data HHH\n",
        "    [1, 0, 0],  # Data III\n",
        "    [0, 0, 1]   # Data JJJ\n",
        "]\n",
        "\n",
        "# Menghitung centroid baru untuk setiap cluster (C1, C2, C3)\n",
        "def compute_new_centroids(data, cluster_assignments):\n",
        "    centroids = []\n",
        "    for i in range(3):  # Ada 3 cluster\n",
        "        # Memilih data yang termasuk dalam cluster ke-i\n",
        "        cluster_data = data[np.array([assignment[i] == 1 for assignment in cluster_assignments])]\n",
        "        # Menghitung rata-rata untuk setiap atribut di cluster tersebut\n",
        "        new_centroid = np.mean(cluster_data, axis=0)\n",
        "        centroids.append(new_centroid)\n",
        "    return np.array(centroids)\n",
        "\n",
        "# Hitung centroid baru\n",
        "new_centroids = compute_new_centroids(data, cluster_assignments)\n",
        "\n",
        "# Tampilkan centroid baru\n",
        "print(\"Centroid Baru:\")\n",
        "for i, centroid in enumerate(new_centroids, 1):\n",
        "    print(f\"C{i}: {centroid}\")\n"
      ],
      "metadata": {
        "colab": {
          "base_uri": "https://localhost:8080/"
        },
        "id": "MCLO93UjgdEA",
        "outputId": "ecdb86bc-b18e-4f45-d62a-640f12d49996"
      },
      "execution_count": null,
      "outputs": [
        {
          "output_type": "stream",
          "name": "stdout",
          "text": [
            "Centroid Baru:\n",
            "C1: [ 1.5        83.445      81.57       85.16833333  0.66666667 81.        ]\n",
            "C2: [ 1.5   83.67  83.83  90.835  1.    65.   ]\n",
            "C3: [ 2.5  84.67 86.87 73.82  1.   72.  ]\n"
          ]
        }
      ]
    },
    {
      "cell_type": "code",
      "source": [
        "import numpy as np\n",
        "import pandas as pd\n",
        "\n",
        "# Data yang sudah dikelompokkan berdasarkan iterasi pertama\n",
        "data = np.array([\n",
        "    [4, 83.00, 80.08, 87.67, 2, 75],  # Data untuk AAA\n",
        "    [2, 80.67, 83.33, 88.00, 0, 65],  # Data untuk BBB\n",
        "    [2, 83.67, 85.67, 82.33, 1, 85],  # Data untuk CCC\n",
        "    [1, 76.67, 86.33, 86.67, 1, 75],  # Data untuk DDD\n",
        "    [1, 86.67, 84.33, 93.67, 2, 65],  # Data untuk EEE\n",
        "    [0, 87.67, 80.00, 87.00, 0, 86],  # Data untuk FFF\n",
        "    [1, 83.33, 80.67, 80.67, 0, 77],  # Data untuk GGG\n",
        "    [2, 85.67, 83.67, 76.67, 1, 66],  # Data untuk HHH\n",
        "    [1, 86.33, 76.67, 86.67, 0, 88],  # Data untuk III\n",
        "    [3, 83.67, 90.07, 70.97, 1, 78]   # Data untuk JJJ\n",
        "])\n",
        "\n",
        "# Centroid baru yang telah dihitung sebelumnya\n",
        "centroids_new = np.array([\n",
        "    [1.5, 83.445, 81.57, 85.16833333, 0.66666667, 81.],  # C1\n",
        "    [1.5, 83.67, 83.83, 90.835, 1., 65.],                  # C2\n",
        "    [2.5, 84.67, 86.87, 73.82, 1., 72.]                    # C3\n",
        "])\n",
        "\n",
        "# Fungsi untuk menghitung jarak Euclidean\n",
        "def euclidean_distance(data_point, centroid):\n",
        "    return np.sqrt(np.sum((data_point - centroid) ** 2))\n",
        "\n",
        "# Hitung jarak untuk setiap data ke setiap centroid baru\n",
        "distances_new = []\n",
        "assignments_new = []\n",
        "\n",
        "for i, data_point in enumerate(data):\n",
        "    distance_row = []\n",
        "    assignment_row = [0, 0, 0]  # Set all clusters to 0 initially\n",
        "    for j, centroid in enumerate(centroids_new):\n",
        "        dist = euclidean_distance(data_point, centroid)\n",
        "        distance_row.append(dist)\n",
        "\n",
        "    # Tentukan cluster berdasarkan jarak terkecil, beri nilai 1 untuk yang terkecil\n",
        "    min_distance_idx = np.argmin(distance_row)\n",
        "    assignment_row[min_distance_idx] = 1\n",
        "\n",
        "    distances_new.append(distance_row)\n",
        "    assignments_new.append(assignment_row)\n",
        "\n",
        "# Mengonversi hasil ke DataFrame untuk menampilkan tabel seperti yang diinginkan\n",
        "distances_df = pd.DataFrame(distances_new, columns=['C1', 'C2', 'C3'])\n",
        "assignments_df = pd.DataFrame(assignments_new, columns=['Cluster C1', 'Cluster C2', 'Cluster C3'])\n",
        "\n",
        "# Gabungkan hasil jarak dan penugasan cluster menjadi satu DataFrame\n",
        "result_df = pd.concat([distances_df, assignments_df], axis=1)\n",
        "\n",
        "# Menampilkan hasil pengelompokan dalam bentuk tabel\n",
        "print(\"Tabel 3. Hasil Pengelompokan Data\")\n",
        "print(result_df)\n"
      ],
      "metadata": {
        "colab": {
          "base_uri": "https://localhost:8080/"
        },
        "id": "k6L8qJbFjGcg",
        "outputId": "d3303e5c-7c6a-479a-8259-c2ac650cdb4a"
      },
      "execution_count": null,
      "outputs": [
        {
          "output_type": "stream",
          "name": "stdout",
          "text": [
            "Tabel 3. Hasil Pengelompokan Data\n",
            "          C1         C2         C3  Cluster C1  Cluster C2  Cluster C3\n",
            "0   7.259769  11.479487  15.904889           1           0           0\n",
            "1  16.598524   4.305488  16.728837           0           1           0\n",
            "2   6.424786  21.816751  15.624023           1           0           0\n",
            "3  10.352504  13.147138  15.513352           1           0           0\n",
            "4  18.663449   4.305488  21.371104           0           1           0\n",
            "5   7.166936  22.127497  20.812479           1           0           0\n",
            "6   6.144320  16.083483  10.742816           1           0           0\n",
            "7  17.519800  14.350011   7.457379           0           0           1\n",
            "8   9.180559  24.615817  23.047084           1           0           0\n",
            "9  16.889476  24.592800   7.457379           0           0           1\n"
          ]
        }
      ]
    }
  ]
}