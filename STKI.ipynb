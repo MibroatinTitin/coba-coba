{
  "nbformat": 4,
  "nbformat_minor": 0,
  "metadata": {
    "colab": {
      "provenance": [],
      "authorship_tag": "ABX9TyPbrq/S5Qm5+s8CHf0xG2tV",
      "include_colab_link": true
    },
    "kernelspec": {
      "name": "python3",
      "display_name": "Python 3"
    },
    "language_info": {
      "name": "python"
    }
  },
  "cells": [
    {
      "cell_type": "markdown",
      "metadata": {
        "id": "view-in-github",
        "colab_type": "text"
      },
      "source": [
        "<a href=\"https://colab.research.google.com/github/MibroatinTitin/coba-coba/blob/master/STKI.ipynb\" target=\"_parent\"><img src=\"https://colab.research.google.com/assets/colab-badge.svg\" alt=\"Open In Colab\"/></a>"
      ]
    },
    {
      "cell_type": "code",
      "execution_count": 1,
      "metadata": {
        "colab": {
          "base_uri": "https://localhost:8080/"
        },
        "id": "OeXQiYKjlhGk",
        "outputId": "a74b303c-e44e-4b40-f2c7-e2983becedf4"
      },
      "outputs": [
        {
          "output_type": "stream",
          "name": "stdout",
          "text": [
            "Hasil clustering:\n",
            "Cluster 1:\n",
            "Blitar - 101.94, 101.94, 95.91\n",
            "Lumajang - 95.04, 93.82, 91.05\n",
            "Banyuwangi - 122.01, 119.52, 106.61\n",
            "\n",
            "Cluster 2:\n",
            "Kediri - 169.46, 171.18, 159.27\n",
            "Malang - 252.88, 251.36, 240.14\n",
            "Jember - 232.73, 236.46, 224.77\n",
            "\n",
            "Cluster 3:\n",
            "Pacitan - 76.93, 76.2, 73.03\n",
            "Ponorogo - 81.8, 83.71, 80.05\n",
            "Trenggalek - 76.75, 74.58, 73.75\n",
            "Tulungagung - 70.52, 68.81, 66.42\n",
            "\n"
          ]
        }
      ],
      "source": [
        "import math\n",
        "\n",
        "# Data jumlah penduduk miskin (dalam ribu jiwa) beserta nama kota\n",
        "data = [\n",
        "    {'nama': 'Pacitan', 'data': [76.93, 76.2, 73.03]},\n",
        "    {'nama': 'Ponorogo', 'data': [81.8, 83.71, 80.05]},\n",
        "    {'nama': 'Trenggalek', 'data': [76.75, 74.58, 73.75]},\n",
        "    {'nama': 'Tulungagung', 'data': [70.52, 68.81, 66.42]},\n",
        "    {'nama': 'Blitar', 'data': [101.94, 101.94, 95.91]},\n",
        "    {'nama': 'Kediri', 'data': [169.46, 171.18, 159.27]},\n",
        "    {'nama': 'Malang', 'data': [252.88, 251.36, 240.14]},\n",
        "    {'nama': 'Lumajang', 'data': [95.04, 93.82, 91.05]},\n",
        "    {'nama': 'Jember', 'data': [232.73, 236.46, 224.77]},\n",
        "    {'nama': 'Banyuwangi', 'data': [122.01, 119.52, 106.61]},\n",
        "    # Tambahkan data lain sesuai kebutuhan...\n",
        "]\n",
        "\n",
        "# Jumlah cluster\n",
        "k = 3\n",
        "\n",
        "# Fungsi untuk menghitung jarak Euclidean\n",
        "def euclidean_distance(point1, point2):\n",
        "    length = min(len(point1), len(point2))  # Validasi panjang array\n",
        "    distance = sum((point1[i] - point2[i]) ** 2 for i in range(length))\n",
        "    return math.sqrt(distance)\n",
        "\n",
        "# Fungsi untuk memperbarui centroid\n",
        "def update_centroid(cluster):\n",
        "    if len(cluster) == 0:\n",
        "        return []  # Jika cluster kosong, kembalikan array kosong\n",
        "    centroid = [0] * len(cluster[0]['data'])\n",
        "    for point in cluster:\n",
        "        for i, value in enumerate(point['data']):\n",
        "            centroid[i] += value\n",
        "    return [x / len(cluster) for x in centroid]\n",
        "\n",
        "# K-Means clustering algorithm\n",
        "def k_means(data, k):\n",
        "    centroids = data[:k]  # Ambil data awal sebagai centroid\n",
        "    previous_centroids = []\n",
        "    iterations = 0\n",
        "\n",
        "    while centroids != previous_centroids and iterations < 100:\n",
        "        clusters = [[] for _ in range(k)]  # Inisialisasi cluster\n",
        "        for point in data:\n",
        "            distances = [euclidean_distance(point['data'], centroid['data']) for centroid in centroids]\n",
        "            cluster_index = distances.index(min(distances))\n",
        "            clusters[cluster_index].append(point)\n",
        "\n",
        "        previous_centroids = centroids\n",
        "        centroids = [{'nama': 'centroid', 'data': update_centroid(cluster)} for cluster in clusters]\n",
        "        iterations += 1\n",
        "\n",
        "    return clusters\n",
        "\n",
        "# Jalankan algoritma K-Means\n",
        "clusters = k_means(data, k)\n",
        "\n",
        "# Tampilkan hasil clustering\n",
        "print(\"Hasil clustering:\")\n",
        "for index, cluster in enumerate(clusters):\n",
        "    print(f\"Cluster {index + 1}:\")\n",
        "    for point in cluster:\n",
        "        print(f\"{point['nama']} - {', '.join(map(str, point['data']))}\")\n",
        "    print()\n"
      ]
    }
  ]
}